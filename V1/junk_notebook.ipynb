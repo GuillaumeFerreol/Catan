{
 "cells": [
  {
   "cell_type": "code",
   "execution_count": 24,
   "metadata": {},
   "outputs": [
    {
     "data": {
      "text/plain": [
       "[1, 1, 1, 1, 2, 2, 2, 2, 3, 3, 3, 3, 4, 4, 4, 5, 5, 5, 6]"
      ]
     },
     "execution_count": 24,
     "metadata": {},
     "output_type": "execute_result"
    }
   ],
   "source": [
    "import random\n",
    "\n",
    "a=[1, 1, 1, 1, 2, 2, 2, 2, 3, 3, 3, 3, 4, 4, 4, 5, 5, 5, 6]\n",
    "random.shuffle(a[:18])\n",
    "\n",
    "a"
   ]
  },
  {
   "cell_type": "code",
   "execution_count": 5,
   "metadata": {},
   "outputs": [],
   "source": [
    "region_types=[1, 1, 1, 1, 2, 2, 2, 2, 3, 3, 3, 3, 4, 4, 4, 5, 5, 5, 6]#desert needs to have 7 \n",
    "random.shuffle(region_types)\n"
   ]
  },
  {
   "cell_type": "code",
   "execution_count": 12,
   "metadata": {},
   "outputs": [
    {
     "data": {
      "text/plain": [
       "(0, 1, 2, 3, 4, 5, 6, 7, 8, 9, 10, 11, 12, 13, 14, 15, 16, 17, 18)"
      ]
     },
     "execution_count": 12,
     "metadata": {},
     "output_type": "execute_result"
    }
   ],
   "source": [
    "tuple(range(0, 19))"
   ]
  },
  {
   "cell_type": "code",
   "execution_count": null,
   "metadata": {},
   "outputs": [],
   "source": []
  },
  {
   "cell_type": "code",
   "execution_count": 27,
   "metadata": {},
   "outputs": [
    {
     "ename": "TypeError",
     "evalue": "unsupported operand type(s) for -: 'tuple' and 'tuple'",
     "output_type": "error",
     "traceback": [
      "\u001b[1;31m---------------------------------------------------------------------------\u001b[0m",
      "\u001b[1;31mTypeError\u001b[0m                                 Traceback (most recent call last)",
      "Cell \u001b[1;32mIn [27], line 1\u001b[0m\n\u001b[1;32m----> 1\u001b[0m (\u001b[39m1\u001b[39;49m,\u001b[39m1\u001b[39;49m)\u001b[39m-\u001b[39;49m(\u001b[39m2\u001b[39;49m,\u001b[39m2\u001b[39;49m)\n",
      "\u001b[1;31mTypeError\u001b[0m: unsupported operand type(s) for -: 'tuple' and 'tuple'"
     ]
    }
   ],
   "source": [
    "\n",
    "(1,1)-(2,2)\n"
   ]
  },
  {
   "cell_type": "code",
   "execution_count": 1,
   "metadata": {},
   "outputs": [],
   "source": [
    "a={(1,1): 1, 'grain':2, 'lumber': 3, 'ore':4, 'wool':5}"
   ]
  },
  {
   "cell_type": "code",
   "execution_count": 22,
   "metadata": {},
   "outputs": [
    {
     "name": "stdout",
     "output_type": "stream",
     "text": [
      "1\n",
      "2\n",
      "3\n",
      "4\n",
      "5\n"
     ]
    }
   ],
   "source": []
  },
  {
   "cell_type": "code",
   "execution_count": 347,
   "metadata": {},
   "outputs": [],
   "source": [
    "import numpy as np\n",
    "from math import sqrt\n",
    "import random\n",
    "\n",
    "\n",
    "\n",
    "\n",
    "class Player:\n",
    "    def __init__(self, name):\n",
    "        self.name=name\n",
    "        self.resources ={'brick': 0, 'grain':0, 'lumber': 0, 'ore':0, 'wool':0} #Resources (initialized as 0) \n",
    "        self.points=0\n",
    "        self.settlements=[]\n",
    "        self.roads=[]\n",
    "        #(Ports)\n",
    "\n",
    "    #Methods (version 3)\n",
    "        def pass_round(self, user_answer):#Pass the round\n",
    "                pass\n",
    "        def roll_dice(self):\n",
    "            return random.randint(1,6)+random.randint(1,6)\n",
    "\n",
    "        def buy_road(self, road):\n",
    "            #check resources\n",
    "\n",
    "            #update road, player\n",
    "            pass\n",
    "\n",
    "        def buy_settlements(self,  settlement):\n",
    "            #check resources\n",
    "            #ask user where\n",
    "            #update region, player\n",
    "            pass\n",
    "\n",
    "        def upgrade_settlement(self, settlement):\n",
    "            #check resources\n",
    "            #ask user where\n",
    "            #update settlement, player\n",
    "            pass\n",
    "\n",
    "        def move_robber(self):\n",
    "\n",
    "            #ask region, player_to_rob, resource_to_rob\n",
    "            #update region\n",
    "            #update player resources\n",
    "            pass\n",
    "\n",
    "        #(Trade with players)\n",
    "        #(Trade with bank)\n",
    "        #(Accept trade)\n",
    "        #(Refuse trade)\n",
    "        #(Buy development card)\n",
    "\n",
    "\n",
    "\n",
    "class Region:\n",
    "\n",
    "    types_to_resources={'4': 'bricks', '3':'grain', '1':'lumber', '5':'ore', '2':'wool', '6':None}  #forest=1 (lumber), pasture=2 (wool), fields=3 (grain), hills=4 (brick), mountain=5 (ore), desert=6 (None)\n",
    "    \n",
    "\n",
    "    def __init__(self, id, dice_number, region_type, coordinates):\n",
    "        self.coordinates=coordinates\n",
    "        self.region_type=region_type\n",
    "        self.resource_type=self.types_to_resources[str(region_type)]\n",
    "        self.id=id\n",
    "        self.dice_number=dice_number\n",
    "        self.robber=0\n",
    "        self.vertices={p:  None for p in ['v1', 'v2', 'v3', 'v4', 'v5', 'v6']}\n",
    "        self.edges={p: None for p in ['e1', 'e2', 'e3', 'e4', 'e5', 'e6']}\n",
    "\n",
    "    def give_resources(self):\n",
    "        if self.region_type==6 or self.robber!=0:\n",
    "            pass\n",
    "\n",
    "        for s in self.vertices:\n",
    "            if s[0]!=None:\n",
    "                s[0].resources[self.resource_type]+=1*s[2].multiplier\n",
    "\n",
    "    def assign_vertex(self, vertex):\n",
    "        pass\n",
    "\n",
    "    def assign_edge(self, edge):\n",
    "        pass\n",
    "\n",
    "\n",
    "    # Attributes (version 3)\n",
    "\n",
    "    #     Owner(s) (dictionary with key: player name and value: 0/1 for town/city)\n",
    "    #     Vertices (initialized as a dictionary [0-5]) with value [owner, buildable, occupied]?\n",
    "    #     Edges (initialized as a dictionary [0-5]) with value [owner, buildable, occupied]?\n",
    "    #     (Ports)\n",
    "\n",
    "    # Methods (version 3)\n",
    "    #     Give resources to players\n",
    "\n",
    "\n",
    "\n",
    "class Road:\n",
    "\n",
    "    def __init__(self,coordinates, *args):\n",
    "        self.owner=None\n",
    "        self.regions=[name for name in args]\n",
    "        self.level=0 #0=empty, 1=road exists\n",
    "        self.connected_roads=[]\n",
    "        self.connected_settlements=[]\n",
    "        self.coordinates=coordinates\n",
    "\n",
    "    def assign_owner(self, owner):\n",
    "        self.owner=owner\n",
    "        self.level=1\n",
    "\n",
    "    # Methods (version 3)\n",
    "    #     Assign_owner\n",
    "    #     Assign_region\n",
    "    #     Get_owner\n",
    "    #     Get_regions\n",
    "\n",
    "\n",
    "\n",
    "class Settlement:\n",
    "\n",
    "    #each player has X settlements and Y roads at the beggining\n",
    "    def __init__(self,coordinates, *args):\n",
    "        self.multiplier=0 #level = multiplier?\n",
    "        self.owner=None\n",
    "        self.regions=[name for name in args]\n",
    "        self.level=0\n",
    "        self.connected_roads=[]\n",
    "        self.connected_settlements=[]\n",
    "        self.coordinates=coordinates\n",
    "        \n",
    "    # Attributes (version 3)\n",
    "    #     Owner\n",
    "    #     Multiplier (initialized as 1 → becomes 2 when town is upgraded to city)\n",
    "    #     Level (Town or City (initialized as 0 - town))\n",
    "    #     Regions it belongs to\n",
    "    #     (Port(initialized as null))\n",
    "\n",
    "    def assign_owner(self, owner):\n",
    "        self.owner=owner\n",
    "        self.multiplier=1\n",
    "        self.level=1\n",
    "\n",
    "    def upgrade(self):\n",
    "        self.level=2\n",
    "        self.multiplier=2\n",
    "\n",
    "\n",
    "\n",
    "\n",
    "    \n",
    "\n",
    "\n",
    "\n",
    "class Board:\n",
    "\n",
    "    def __init__(self):\n",
    "        \n",
    "        self.region_position=tuple(range(0, 19))\n",
    "        self.region_types=[1, 1, 1, 1, 2, 2, 2, 2, 3, 3, 3, 3, 4, 4, 4, 5, 5, 5]#desert needs to have 7 \n",
    "        random.shuffle(self.region_types)\n",
    "        self.region_types.append(6)\n",
    "        #forest=1 (lumber), pasture=2 (wool), fields=3 (grain), hills=4 (brick), mountain=5 (ore), desert=6 (None)\n",
    "\n",
    "        self.region_coordinates={'1': (-1,-sqrt(3)), '2': (0,-sqrt(3)), '3':(1,-sqrt(3)), '4':(1.5,-sqrt(3/4)), '5': (2,0), '6':(1.5, sqrt(3/4)), '7':(1,sqrt(3)), '8':(0,sqrt(3)), '9':(-1,sqrt(3)), \n",
    "                                '10': (-1.5,sqrt(3/4)), '11': (-2,0), '12': (-1.5,-sqrt(3/4)), '13':(-0.5,-sqrt(3/4)), '14':(0.5,-sqrt(3/4)), '15': (1,0), '16':(0.5,sqrt(3/4)), '17':(-0.5,sqrt(3/4)), \n",
    "                                '18':(-1,0), '19':(0,0)} #change\n",
    "\n",
    "        self.region_numbering=[('a',5) , ('b',2) , ('c',6), ('d',3), ('e',8), ('f',10), ('g',9), ('h',12), ('i',11), \n",
    "                            ('j',4), ('k',8), ('l',10), ('m',9), ('n',4), ('o',5), ('p',6), ('q',3), ('r',11), ('desert',7)]\n",
    "        self.region_parameter=[(x,y) for x,y in zip(self.region_types,self.region_numbering)]\n",
    "        random.shuffle(self.region_parameter)\n",
    "        self.regions=[]\n",
    "        self.roads=[]\n",
    "        self.settlements=[]\n",
    "        self.proximity_vector={(-0.5,-sqrt(3/4)):(('v4', 'v5', 'e4'), ('v2', 'v1', 'e1')), \n",
    "                                (0.5,-sqrt(3/4)):(('v4', 'v3', 'e3'), ('v6', 'v1', 'e6')), \n",
    "                                (1,0):(('v2', 'v3', 'e2'), ('v6', 'v5', 'e5')),\n",
    "                                (0.5,sqrt(3/4)):(('v2', 'v1', 'e1'),('v4', 'v5', 'e4')), \n",
    "                                (-0.5, sqrt(3/4)):(('v6', 'v1', 'e6'),('v4', 'v3', 'e3')), \n",
    "                                (-1,0):(('v6', 'v5', 'e5'),('v2', 'v3', 'e2'))} \n",
    "        self.edge_coordinate_mapping={'e1':(0.25, sqrt(3/4)/2),'e2':(1/2, 0), 'e3':(0.25, -sqrt(3/4)/2), 'e4':(-0.25, -sqrt(3/4)/2), 'e5':(-1/2, -0), 'e6':(-0.25, sqrt(3/4)/2)}\n",
    "        self.vertex_coordinate_mapping={'v1':(0, 1/sqrt(3)),'v2':(1/2, 1/(2*sqrt(3))), 'v3':(1/2, -1/(2*sqrt(3))), 'v4':(0, -1/sqrt(3)), 'v5':(-1/2, -1/(2*sqrt(3))), 'v6':(-1/2, 1/(2*sqrt(3)))}\n",
    "\n",
    "        \n",
    "    def assign_robber(self):\n",
    "        self.region_list[random.randint(0,19)].robber==1\n",
    "\n",
    "    def setup_roads_settlements(self, region1, region2):\n",
    "        self.vector=region2.coordinates[0]-region1.coordinates[0], region2.coordinates[1]-region1.coordinates[1]\n",
    "        if self.vector in self.proximity_vector:\n",
    "            if region1.edges[self.proximity_vector[self.vector][0][2]]==None:\n",
    "                if region2.edges[self.proximity_vector[self.vector][1][2]]==None:\n",
    "                    region1.edges[self.proximity_vector[self.vector][0][2]]=Road(tuple(np.array(region1.coordinates)+np.array(self.edge_coordinate_mapping[self.proximity_vector[self.vector][0][2]])),region1.id, region2.id, )\n",
    "                    region2.edges[self.proximity_vector[self.vector][1][2]]=region1.edges[self.proximity_vector[self.vector][0][2]] #adding the already created road to the other region\n",
    "                    self.roads.append(region1.edges[self.proximity_vector[self.vector][0][2]]) #adding the newly created road to the list of \n",
    "                else:\n",
    "                    region2.edges[self.proximity_vector[self.vector][1][2]].regions.append(region1.id) #appending a region id to road.region which is a list containing all regions sharing that edge\n",
    "                    region1.edges[self.proximity_vector[self.vector][0][2]]=region2.edges[self.proximity_vector[self.vector][1][2]]\n",
    "        \n",
    "\n",
    "            if region1.vertices[self.proximity_vector[self.vector][0][0]]==None:\n",
    "                if region2.vertices[self.proximity_vector[self.vector][1][0]]==None:\n",
    "                    region1.vertices[self.proximity_vector[self.vector][0][0]]=Settlement(tuple(np.array(region1.coordinates)+np.array(self.vertex_coordinate_mapping[self.proximity_vector[self.vector][0][0]])),region1.id, region2.id)\n",
    "                    region2.vertices[self.proximity_vector[self.vector][1][0]]=region1.vertices[self.proximity_vector[self.vector][0][0]]\n",
    "                    self.settlements.append(region1.vertices[self.proximity_vector[self.vector][0][0]]) #adding the newly created settlement to the list of settlements\n",
    "                else:\n",
    "                    region2.vertices[self.proximity_vector[self.vector][1][0]].regions.append(region1.id)\n",
    "                    region1.vertices[self.proximity_vector[self.vector][0][0]]=region2.vertices[self.proximity_vector[self.vector][1][0]]\n",
    "            else:\n",
    "                region1.vertices[self.proximity_vector[self.vector][0][0]].regions.append(region2.id)\n",
    "                region2.vertices[self.proximity_vector[self.vector][1][0]]=region1.vertices[self.proximity_vector[self.vector][0][0]]\n",
    "\n",
    "\n",
    "            if region1.vertices[self.proximity_vector[self.vector][0][1]]==None:\n",
    "                if region2.vertices[self.proximity_vector[self.vector][1][1]]==None:\n",
    "                    region1.vertices[self.proximity_vector[self.vector][0][1]]=Settlement(tuple(np.array(region1.coordinates)+np.array(self.vertex_coordinate_mapping[self.proximity_vector[self.vector][0][1]])),region1.id, region2.id)\n",
    "                    region2.vertices[self.proximity_vector[self.vector][1][1]]=region1.vertices[self.proximity_vector[self.vector][0][1]]\n",
    "                    self.settlements.append(region1.vertices[self.proximity_vector[self.vector][0][1]]) #adding the newly created settlement to the list of settlements\n",
    "                else:\n",
    "                    region2.vertices[self.proximity_vector[self.vector][1][1]].regions.append(region1.id)\n",
    "                    region1.vertices[self.proximity_vector[self.vector][1][0]]=region2.vertices[self.proximity_vector[self.vector][1][1]]\n",
    "            else:\n",
    "                region1.vertices[self.proximity_vector[self.vector][0][1]].regions.append(region2.id)\n",
    "                region2.vertices[self.proximity_vector[self.vector][1][1]]=region1.vertices[self.proximity_vector[self.vector][0][1]]\n",
    "\n",
    "\n",
    "    def setup_board(self):\n",
    "\n",
    "        for k in range(0,19):\n",
    "            self.regions.append(Region(self.region_parameter[k][1][0],self.region_parameter[k][1][1],self.region_parameter[k][0], self.region_coordinates[str(k+1)]))\n",
    "\n",
    "        for i in range(len(self.regions)): #creating all inner roads and settlements and assigning them to the relative regions\n",
    "            for j in range(len(self.regions)):\n",
    "                self.setup_roads_settlements(self.regions[i],self.regions[j])\n",
    "\n",
    "                # create outer roads and settlements and assign them to the respective region\n",
    "\n",
    "        self.k=0\n",
    "        for p in self.regions:\n",
    "            for q in self.edge_coordinate_mapping.keys():\n",
    "                if p.edges[q]==None:\n",
    "                    p.edges[q]=Road(tuple(np.array(p.coordinates)+np.array(self.edge_coordinate_mapping[q])),p.id)\n",
    "                    self.roads.append(p.edges[q]) #adding the newly created road to the list of roads      \n",
    "            for q in self.vertex_coordinate_mapping.keys():\n",
    "                if p.vertices[q]==None:\n",
    "                    self.k+=1\n",
    "                    p.vertices[q]=Settlement(tuple(np.array(p.coordinates)+np.array(self.vertex_coordinate_mapping[q])),p.id) \n",
    "                    self.settlements.append(p.vertices[q])#adding the newly created settlement to the list of settlements\n",
    "\n",
    "\n",
    "\n",
    "\n",
    "    \n",
    "    # def connections(self, region1, region2): \n",
    "    #     for p in region1.edges.values:\n",
    "    #         if p.regions==[region1, region2]:\n",
    "    #             vector=region1.coordinates[0]-region2.coordinates[0], region1.coordinates[1]-region2.coordinates[1]\n",
    "    #             if vector == (-0.5,-sqrt(3/4)):\n",
    "    #                 p.connected_roads.append(region1.edges['e3'], region1.edges['e5'], region2.edges['e6'], region1.edges['e2'])\n",
    "    #                 p.connected_settlements.append(region1.vertices['v5'], region1.vertices['v4'])\n",
    "    #             if vector == (0.5,-sqrt(3/4)):\n",
    "    #                 p.connected_roads.append(region1.edges['e4'], region1.edges['e2'], region2.edges['e5'], region1.edges['e1'])\n",
    "    #                 p.connected_settlements.append(region1.vertices['v4'], region1.vertices['v3'])                \n",
    "    #             if vector == (1,0):\n",
    "    #                 p.connected_roads.append(region1.edges['e1'], region1.edges['e3'], region2.edges['e6'], region1.edges['e4'])\n",
    "    #                 p.connected_settlements.append(region1.vertices['v3'], region1.vertices['v2'])\n",
    "    # #call 2 times inverting region1 and region2\n",
    "        \n",
    "        #show(V2?)\n",
    "\n",
    "\n",
    "\n",
    "class Game:\n",
    "\n",
    "    def __init__(self, names):\n",
    "        for name in names:\n",
    "            self.players={name:Player(name)}\n",
    "            self.scores=[self.players[player].points for player in self.players]\n",
    "            self.winning_condition=0\n",
    "        self.board=Board()\n",
    "\n",
    "        #fix indentation\n",
    "        def declare_winner(self, current_player):\n",
    "                if self.players[current_player].points>10:\n",
    "                    print(f'player {current_player} wins the game !')\n",
    "                    return 1\n",
    "\n",
    "        def turn(self, player):\n",
    "            self.dice_result=player.roll_dice()\n",
    "            if self.dice_result==7:\n",
    "                self.board.assign_robber()\n",
    "                player.move_robber()\n",
    "            player.buy_road()\n",
    "            player.buy_settlements()\n",
    "            player.upgrade_settlement()\n",
    "            \n",
    "\n",
    "        def rounds(self):\n",
    "            while True:\n",
    "                for player in self.players:\n",
    "                    turn(self.players[player])\n",
    "                    self.winning_condition=declare_winner(player)\n",
    "                    if self.winning_condition!=0:\n",
    "                        break\n",
    "                    print(f'the scores are {self.scores}')\n",
    "            print(f'the scores are {self.scores}')\n",
    "\n",
    "    #add method start to recall previous related methods\n",
    "\n",
    "            \n",
    "                    \n",
    "\n",
    "\n",
    "\n",
    "\n",
    "\n",
    "\n",
    "\n",
    "\n"
   ]
  },
  {
   "cell_type": "code",
   "execution_count": 293,
   "metadata": {},
   "outputs": [],
   "source": [
    "import matplotlib.pyplot as plt"
   ]
  },
  {
   "cell_type": "code",
   "execution_count": 348,
   "metadata": {},
   "outputs": [],
   "source": [
    "board=Board()\n",
    "board.setup_board()"
   ]
  },
  {
   "cell_type": "code",
   "execution_count": null,
   "metadata": {},
   "outputs": [],
   "source": []
  },
  {
   "cell_type": "code",
   "execution_count": 353,
   "metadata": {},
   "outputs": [
    {
     "data": {
      "text/plain": [
       "<matplotlib.collections.PathCollection at 0x1a71e019c90>"
      ]
     },
     "execution_count": 353,
     "metadata": {},
     "output_type": "execute_result"
    },
    {
     "data": {
      "image/png": "[encoded data removed]",
      "text/plain": [
       "<Figure size 640x480 with 1 Axes>"
      ]
     },
     "metadata": {},
     "output_type": "display_data"
    }
   ],
   "source": [
    "x=[x.coordinates[0] for x in board.regions]\n",
    "y=[x.coordinates[1] for x in board.regions]\n",
    "plt.scatter(x,y)\n",
    "x1=[x.coordinates[0] for x in board.settlements]\n",
    "y1=[x.coordinates[1] for x in board.settlements]\n",
    "plt.scatter(x1,y1, c='red')\n",
    "x2=[x.coordinates[0] for x in board.settlements_test]\n",
    "y2=[x.coordinates[1] for x in board.settlements_test]\n",
    "plt.scatter(x2,y2, c='orange')\n",
    "x3=[x.coordinates[0] for x in board.roads]\n",
    "y3=[x.coordinates[1] for x in board.roads]\n",
    "plt.scatter(x3,y3, c='green')"
   ]
  },
  {
   "cell_type": "code",
   "execution_count": 355,
   "metadata": {},
   "outputs": [
    {
     "data": {
      "text/plain": [
       "72"
      ]
     },
     "execution_count": 355,
     "metadata": {},
     "output_type": "execute_result"
    }
   ],
   "source": [
    "len(board.roads)"
   ]
  },
  {
   "cell_type": "code",
   "execution_count": 346,
   "metadata": {},
   "outputs": [
    {
     "data": {
      "text/plain": [
       "36"
      ]
     },
     "execution_count": 346,
     "metadata": {},
     "output_type": "execute_result"
    }
   ],
   "source": [
    "len(board.settlements)"
   ]
  },
  {
   "cell_type": "code",
   "execution_count": 341,
   "metadata": {},
   "outputs": [
    {
     "data": {
      "text/plain": [
       "<matplotlib.collections.PathCollection at 0x1a71cd18c40>"
      ]
     },
     "execution_count": 341,
     "metadata": {},
     "output_type": "execute_result"
    },
    {
     "data": {
      "image/png": "[encoded data removed]",
      "text/plain": [
       "<Figure size 640x480 with 1 Axes>"
      ]
     },
     "metadata": {},
     "output_type": "display_data"
    }
   ],
   "source": [
    "x1=[x.coordinates[0] for x in board.settlements_test]\n",
    "y1=[x.coordinates[1] for x in board.settlements_test]\n",
    "plt.scatter(x1,y1, c='red')"
   ]
  },
  {
   "cell_type": "code",
   "execution_count": 351,
   "metadata": {},
   "outputs": [
    {
     "data": {
      "text/plain": [
       "18"
      ]
     },
     "execution_count": 351,
     "metadata": {},
     "output_type": "execute_result"
    }
   ],
   "source": [
    "len(board.settlements_test)"
   ]
  },
  {
   "cell_type": "code",
   "execution_count": 296,
   "metadata": {},
   "outputs": [
    {
     "name": "stdout",
     "output_type": "stream",
     "text": [
      "<__main__.Settlement object at 0x000001A71B4DB670>\n",
      "<__main__.Settlement object at 0x000001A71B4DAFE0>\n",
      "None\n",
      "<__main__.Settlement object at 0x000001A71B4DAEF0>\n",
      "<__main__.Settlement object at 0x000001A71B4D84F0>\n",
      "<__main__.Settlement object at 0x000001A71B4DB0A0>\n"
     ]
    }
   ],
   "source": [
    "for x in board.regions[4].vertices:\n",
    "    print(board.regions[4].vertices[x])\n",
    "\n",
    "    "
   ]
  },
  {
   "cell_type": "code",
   "execution_count": 297,
   "metadata": {},
   "outputs": [
    {
     "name": "stdout",
     "output_type": "stream",
     "text": [
      "['r', 'desert']\n",
      "['n', 'e', 'r']\n",
      "['n', 'r']\n",
      "['n', 'r']\n",
      "['r', 'e', 'desert']\n"
     ]
    }
   ],
   "source": [
    "print(board.regions[4].vertices['v1'].regions)\n",
    "print(board.regions[4].vertices['v2'].regions)\n",
    "print(board.regions[4].vertices['v4'].regions)\n",
    "print(board.regions[4].vertices['v5'].regions)\n",
    "print(board.regions[4].vertices['v6'].regions)"
   ]
  },
  {
   "cell_type": "code",
   "execution_count": 193,
   "metadata": {},
   "outputs": [
    {
     "data": {
      "text/plain": [
       "<matplotlib.collections.PathCollection at 0x1a717a2eb30>"
      ]
     },
     "execution_count": 193,
     "metadata": {},
     "output_type": "execute_result"
    },
    {
     "data": {
      "image/png": "[encoded data removed]",
      "text/plain": [
       "<Figure size 640x480 with 1 Axes>"
      ]
     },
     "metadata": {},
     "output_type": "display_data"
    }
   ],
   "source": []
  }
 ],
 "metadata": {
  "kernelspec": {
   "display_name": "Python 3.10.2 64-bit",
   "language": "python",
   "name": "python3"
  },
  "language_info": {
   "codemirror_mode": {
    "name": "ipython",
    "version": 3
   },
   "file_extension": ".py",
   "mimetype": "text/x-python",
   "name": "python",
   "nbconvert_exporter": "python",
   "pygments_lexer": "ipython3",
   "version": "3.10.2"
  },
  "orig_nbformat": 4,
  "vscode": {
   "interpreter": {
    "hash": "08f2a05ac046e84805368809866a6b709c3cc9ec790929dec02dbab1889d195a"
   }
  }
 },
 "nbformat": 4,
 "nbformat_minor": 2
}
